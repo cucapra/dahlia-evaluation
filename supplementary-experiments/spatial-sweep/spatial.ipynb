{
 "cells": [
  {
   "cell_type": "markdown",
   "metadata": {},
   "source": [
    "Extract banking decisions versus unrolling factor to a csv file"
   ]
  },
  {
   "cell_type": "code",
   "execution_count": 5,
   "metadata": {},
   "outputs": [],
   "source": [
    "from banking import MyHTMLParser\n",
    "import codecs\n",
    "\n",
    "for g in range(1,17):\n",
    "    name = \"banks/decisions_\"+str(g)+\".html\"\n",
    "    f=codecs.open(name, 'r')\n",
    "    content = f.read()\n",
    "    # instantiate the parser and fed it some HTML\n",
    "    parser = MyHTMLParser(g)\n",
    "    parser.feed(content)"
   ]
  },
  {
   "cell_type": "markdown",
   "metadata": {},
   "source": [
    "Plot the banking decision versus unrolling factor"
   ]
  },
  {
   "cell_type": "code",
   "execution_count": 6,
   "metadata": {
    "scrolled": true
   },
   "outputs": [
    {
     "data": {
      "image/png": "[encoded data removed]",
      "text/plain": [
       "<Figure size 432x288 with 1 Axes>"
      ]
     },
     "metadata": {
      "needs_background": "light"
     },
     "output_type": "display_data"
    }
   ],
   "source": [
    "import re\n",
    "import csv\n",
    "import json\n",
    "\n",
    "\n",
    "import pandas as pd\n",
    "import csv\n",
    "import numpy as np\n",
    "import matplotlib.pyplot as plt\n",
    "\n",
    "import seaborn as sns\n",
    "\n",
    "cl = sns.color_palette(\"colorblind\",6)\n",
    "PERF_RESOURCES = ['dsp_used', 'bram_tile_used','lut_used'] \n",
    "PERF_AVAIL = ['dsp_avail', 'bram_tile_avail', 'lut_avail']\n",
    "\n",
    "fig,ax1 = plt.subplots()\n",
    "loop_k = np.arange(16)+1\n",
    "marker = {'input_matrix_a':'s','input_matrix_b':'+'}\n",
    "leg1 = ['input matrix a','input matrix b']\n",
    "#ax2 = ax1.twinx()\n",
    "ms = [8,11]\n",
    "for i, sram in enumerate(marker):\n",
    "    df = pd.read_csv('banks/'+sram+'.csv')\n",
    "    bank = [ eval(re.sub(\"\\s+\", \",\", n.strip()))[0] for n in df[' N']]\n",
    "    ax1.plot(loop_k,bank, marker[sram], color=cl[i], ms = ms[i], mew=3)\n",
    "ax1.legend(leg1,loc=4, prop={'size':16})\n",
    "ax1.set_ylabel('Banking Decisions', fontsize = 18)\n",
    "ax1.set_xlabel('Unrolling Factor',fontsize = 18)\n",
    "plt.xticks(fontsize = 16)\n",
    "plt.yticks(fontsize = 16)\n",
    "#PERF_RESOURCES_NAME = ['DSP used', 'BRAM used','LUT used'] \n",
    "#ax1.legend(PERF_RESOURCES_NAME,prop={'size': 16})\n",
    "plt.show()"
   ]
  },
  {
   "cell_type": "markdown",
   "metadata": {},
   "source": [
    "Generate normalized resource usage after synthesis"
   ]
  },
  {
   "cell_type": "code",
   "execution_count": 8,
   "metadata": {},
   "outputs": [],
   "source": [
    "from benchmarking.parsing.rpt import RPTParser\n",
    "from benchmarking.summary import extracting as ex\n",
    "from rpt_parse import RPTParser\n",
    "with open('rpts/summary.csv', 'w') as csvfile:\n",
    "    # Get fieldnames from the first file\n",
    "    fieldnames = list(ex.sds_report(\"rpts/par_utilization_1.rpt\").keys()) + ['unroll']\n",
    "    summary = csv.DictWriter(csvfile, delimiter=',', fieldnames=fieldnames)\n",
    "    summary.writeheader()\n",
    "\n",
    "    # Get remaining rows\n",
    "    for i in range(1,17):\n",
    "        row = ex.sds_report(\"rpts/par_utilization_{}.rpt\".format(i))\n",
    "        row['unroll'] = i\n",
    "        summary.writerow(row)   "
   ]
  },
  {
   "cell_type": "markdown",
   "metadata": {},
   "source": [
    "Plot the banking decision versus unrolling factor"
   ]
  }
 ],
 "metadata": {
  "kernelspec": {
   "display_name": "Python 3",
   "language": "python",
   "name": "python3"
  },
  "language_info": {
   "codemirror_mode": {
    "name": "ipython",
    "version": 3
   },
   "file_extension": ".py",
   "mimetype": "text/x-python",
   "name": "python",
   "nbconvert_exporter": "python",
   "pygments_lexer": "ipython3",
   "version": "3.6.8"
  }
 },
 "nbformat": 4,
 "nbformat_minor": 4
}
