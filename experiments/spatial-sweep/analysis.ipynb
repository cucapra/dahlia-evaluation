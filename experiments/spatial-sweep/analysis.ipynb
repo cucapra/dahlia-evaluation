{
 "cells": [
  {
   "cell_type": "code",
   "execution_count": 2,
   "metadata": {},
   "outputs": [],
   "source": [
    "import pandas as pd\n",
    "import seaborn as sns\n",
    "from matplotlib import pyplot as plt\n",
    "import numpy as np\n",
    "%matplotlib inline"
   ]
  },
  {
   "cell_type": "code",
   "execution_count": 3,
   "metadata": {},
   "outputs": [
    {
     "name": "stdout",
     "output_type": "stream",
     "text": [
      "<class 'pandas.core.frame.DataFrame'>\n",
      "RangeIndex: 16 entries, 0 to 15\n",
      "Data columns (total 21 columns):\n",
      "lut_used               16 non-null float64\n",
      "lut_available          16 non-null float64\n",
      "lut_logic_used         16 non-null float64\n",
      "lut_logic_available    16 non-null float64\n",
      "lut_mem_used           16 non-null float64\n",
      "lut_mem_available      16 non-null float64\n",
      "reg_used               16 non-null float64\n",
      "reg_available          16 non-null float64\n",
      "reg_ff_used            16 non-null float64\n",
      "reg_ff_available       16 non-null float64\n",
      "reg_latch_used         16 non-null float64\n",
      "reg_latch_available    16 non-null float64\n",
      "bram_tile_used         16 non-null float64\n",
      "bram_tile_available    16 non-null float64\n",
      "bram36_used            16 non-null float64\n",
      "bram36_available       16 non-null float64\n",
      "bram18_used            16 non-null float64\n",
      "bram18_available       16 non-null float64\n",
      "dsp_used               16 non-null float64\n",
      "dsp_available          16 non-null float64\n",
      "unroll                 16 non-null int64\n",
      "dtypes: float64(20), int64(1)\n",
      "memory usage: 2.8 KB\n"
     ]
    }
   ],
   "source": [
    "df = pd.read_csv('summary.csv')\n",
    "df.info()"
   ]
  },
  {
   "cell_type": "code",
   "execution_count": 5,
   "metadata": {},
   "outputs": [],
   "source": [
    "info_keys = [ \n",
    "    'unroll',\n",
    "]\n",
    "keys = [\n",
    "        'lut',\n",
    "        #'lut_logic',\n",
    "        #'lut_mem',\n",
    "        #'reg',\n",
    "        #'reg_ff',\n",
    "        #'reg_latch',\n",
    "        #'bram_tile',\n",
    "        #'bram36',\n",
    "        #'bram18',\n",
    "        'dsp',\n",
    "]"
   ]
  },
  {
   "cell_type": "code",
   "execution_count": 16,
   "metadata": {},
   "outputs": [
    {
     "name": "stdout",
     "output_type": "stream",
     "text": [
      "(2,)\n"
     ]
    },
    {
     "data": {
      "text/plain": [
       "<Figure size 432x288 with 0 Axes>"
      ]
     },
     "metadata": {},
     "output_type": "display_data"
    },
    {
     "data": {
      "image/png": "[encoded data removed]",
      "text/plain": [
       "<Figure size 504x504 with 2 Axes>"
      ]
     },
     "metadata": {},
     "output_type": "display_data"
    }
   ],
   "source": [
    "import math\n",
    "plt.figure()\n",
    "sns.set()\n",
    "\n",
    "# Configuration for subplot\n",
    "cols = 1\n",
    "rows = int(len(keys) / cols)\n",
    "\n",
    "fig, axes = plt.subplots(rows, cols, figsize=(7, 7))\n",
    "pal = sns.color_palette('husl', 8).as_hex()\n",
    "print(axes.shape)\n",
    "for idx, k in enumerate(keys):\n",
    "    key = k + \"_used\"\n",
    "    # Get current axes for the subplot\n",
    "    ax = axes[idx]\n",
    "    plt.sca(ax)\n",
    "    # Manually add each point to the current scatter plot.\n",
    "    # This lets us control the color and shape of point.\n",
    "    small_df = df[['unroll', key]].copy().sort_values(by='unroll')\n",
    "    my_color = np.where(128 % small_df['unroll'] == 0, pal[0], pal[4])\n",
    "    ymin = small_df.min()[key] - min(small_df.std()[key] * 10, 10)\n",
    "    plt.vlines(x='unroll', ymax=key, data=small_df, ymin=ymin, color=my_color)\n",
    "    plt.scatter(x='unroll', y=key, data=small_df, color=my_color)\n",
    "    plt.ylabel(key)\n",
    "        \n",
    "for col in range(cols):\n",
    "    axes[col].set(xlabel='Unrolling Factor')\n",
    "    \n",
    "#fig.suptitle('Spatial GeMM Ncubed - Absolute Resource Usages', y=0.07)"
   ]
  },
  {
   "cell_type": "code",
   "execution_count": 17,
   "metadata": {},
   "outputs": [],
   "source": [
    "fig.savefig('absolute_lut_dsp.png', dpi=300)"
   ]
  },
  {
   "cell_type": "code",
   "execution_count": null,
   "metadata": {},
   "outputs": [],
   "source": []
  }
 ],
 "metadata": {
  "kernelspec": {
   "display_name": "Python 3",
   "language": "python",
   "name": "python3"
  },
  "language_info": {
   "codemirror_mode": {
    "name": "ipython",
    "version": 3
   },
   "file_extension": ".py",
   "mimetype": "text/x-python",
   "name": "python",
   "nbconvert_exporter": "python",
   "pygments_lexer": "ipython3",
   "version": "3.7.3"
  }
 },
 "nbformat": 4,
 "nbformat_minor": 4
}
